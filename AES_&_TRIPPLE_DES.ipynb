{
  "nbformat": 4,
  "nbformat_minor": 0,
  "metadata": {
    "colab": {
      "name": "AES & TRIPPLE DES.ipynb",
      "provenance": []
    },
    "kernelspec": {
      "name": "python2",
      "display_name": "Python 2"
    },
    "accelerator": "GPU"
  },
  "cells": [
    {
      "cell_type": "code",
      "metadata": {
        "id": "9n5X6Sny_LKo",
        "colab_type": "code",
        "colab": {}
      },
      "source": [
        "# !pip install pycryptodome\n",
        "# !pip install pycryptodomex\n",
        "from Crypto.Cipher import DES3\n",
        "from Crypto import Random\n",
        "import os, random, struct\n",
        "from Crypto.Cipher import AES"
      ],
      "execution_count": 0,
      "outputs": []
    },
    {
      "cell_type": "code",
      "metadata": {
        "id": "ki-9rDES96Qs",
        "colab_type": "code",
        "colab": {}
      },
      "source": [
        "def encrypt_file_AES(key, in_filename, out_filename=None, chunksize=64*1024):\n",
        "   \n",
        "    if not out_filename:\n",
        "        out_filename = in_filename + '.enc'\n",
        " \n",
        "    iv = 'This is an IV456'\n",
        "    encryptor = AES.new(key, AES.MODE_CBC, iv)\n",
        "    filesize = os.path.getsize(in_filename)\n",
        " \n",
        "    with open(in_filename, 'rb') as infile:\n",
        "        with open(out_filename, 'wb') as outfile:\n",
        "         \n",
        "            outfile.write(struct.pack('<Q', filesize))\n",
        "            outfile.write(iv)\n",
        " \n",
        "            while True:\n",
        "                chunk = infile.read(chunksize)\n",
        "                if len(chunk) == 0:\n",
        "                    break\n",
        "                elif len(chunk) % 16 != 0:\n",
        "                    chunk += ' ' * (16 - len(chunk) % 16)\n",
        " \n",
        "                outfile.write(encryptor.encrypt(chunk))"
      ],
      "execution_count": 0,
      "outputs": []
    },
    {
      "cell_type": "code",
      "metadata": {
        "id": "YFKDWabuFkf6",
        "colab_type": "code",
        "colab": {}
      },
      "source": [
        "def decrypt_file_AES(key, in_filename, out_filename=None, chunksize=24*1024):\n",
        "   \n",
        "    if not out_filename:\n",
        "        out_filename = os.path.splitext(in_filename)[0]\n",
        "\n",
        "    with open(in_filename, 'rb') as infile:\n",
        "        origsize = struct.unpack('<Q', infile.read(struct.calcsize('Q')))[0]\n",
        "        iv = infile.read(16)\n",
        "        decryptor = AES.new(key, AES.MODE_CBC, iv)\n",
        "\n",
        "        with open(out_filename, 'wb') as outfile:\n",
        "            while True:\n",
        "                chunk = infile.read(chunksize)\n",
        "                if len(chunk) == 0:\n",
        "                    break\n",
        "                outfile.write(decryptor.decrypt(chunk))\n",
        "\n",
        "            outfile.truncate(origsize)"
      ],
      "execution_count": 0,
      "outputs": []
    },
    {
      "cell_type": "code",
      "metadata": {
        "id": "XG_2WwswGjRd",
        "colab_type": "code",
        "colab": {}
      },
      "source": [
        "def encrypt_file_DES(key, in_filename, out_filename=None, chunksize=64*1024):\n",
        "   \n",
        "    if not out_filename:\n",
        "        out_filename = in_filename + '.enc'\n",
        " \n",
        "    iv = Random.new().read(DES3.block_size)\n",
        "    encryptor = DES3.new(key, DES3.MODE_OFB, iv)\n",
        "    filesize = os.path.getsize(in_filename)\n",
        " \n",
        "    with open(in_filename, 'rb') as infile:\n",
        "        with open(out_filename, 'wb') as outfile:\n",
        "         \n",
        "            outfile.write(struct.pack('<Q', filesize))\n",
        "            outfile.write(iv)\n",
        " \n",
        "            while True:\n",
        "                chunk = infile.read(chunksize)\n",
        "                if len(chunk) == 0:\n",
        "                    break\n",
        "                elif len(chunk) % 16 != 0:\n",
        "                    chunk += ' ' * (16 - len(chunk) % 16)\n",
        " \n",
        "                outfile.write(encryptor.encrypt(chunk))"
      ],
      "execution_count": 0,
      "outputs": []
    },
    {
      "cell_type": "code",
      "metadata": {
        "id": "SPOH9pLiG_IK",
        "colab_type": "code",
        "colab": {}
      },
      "source": [
        "def decrypt_file_DES(key, in_filename, out_filename=None, chunksize=24*1024):\n",
        "   \n",
        "    if not out_filename:\n",
        "        out_filename = os.path.splitext(in_filename)[0]\n",
        "\n",
        "    with open(in_filename, 'rb') as infile:\n",
        "        origsize = struct.unpack('<Q', infile.read(struct.calcsize('Q')))[0]\n",
        "        iv = infile.read(8)\n",
        "        decryptor = DES3.new(key, DES3.MODE_OFB, iv)\n",
        "\n",
        "        with open(out_filename, 'wb') as outfile:\n",
        "            while True:\n",
        "                chunk = infile.read(chunksize)\n",
        "                if len(chunk) == 0:\n",
        "                    break\n",
        "                outfile.write(decryptor.decrypt(chunk))\n",
        "\n",
        "            outfile.truncate(origsize)"
      ],
      "execution_count": 0,
      "outputs": []
    },
    {
      "cell_type": "code",
      "metadata": {
        "id": "_MGNCkjFAcnm",
        "colab_type": "code",
        "colab": {}
      },
      "source": [
        "key = 'This is a key123'\n",
        "\n",
        "encrypt_file_AES(key, 'test.jpg', 'encrypted_AES.jpg')\n",
        "decrypt_file_AES(key, 'encrypted_AES.jpg', 'decrypted_AES.jpg')\n",
        "\n",
        "encrypt_file_DES(key, 'test.jpg', 'encrypted_DES.jpg')\n",
        "decrypt_file_DES(key, 'encrypted_DES.jpg', 'decrypted_DES.jpg')"
      ],
      "execution_count": 0,
      "outputs": []
    }
  ]
}